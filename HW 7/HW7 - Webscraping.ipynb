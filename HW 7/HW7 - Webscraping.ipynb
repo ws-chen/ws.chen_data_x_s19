{
 "cells": [
  {
   "cell_type": "markdown",
   "metadata": {},
   "source": [
    "# Data-X Spring 2019: Homework 7\n",
    "\n",
    "### Webscraping\n",
    "\n",
    "\n",
    "\n",
    "In this homework, you will do some exercises with web-scraping."
   ]
  },
  {
   "cell_type": "markdown",
   "metadata": {},
   "source": [
    "## Name: Wesley Chen\n",
    "\n",
    "## SID: 3031961388\n",
    "\n"
   ]
  },
  {
   "cell_type": "markdown",
   "metadata": {},
   "source": [
    "### Fun with Webscraping & Text manipulation\n"
   ]
  },
  {
   "cell_type": "markdown",
   "metadata": {
    "collapsed": true
   },
   "source": [
    "## 1. Statistics in Presidential Debates\n",
    "\n",
    "Your first task is to scrape Presidential Debates from the Commission of Presidential Debates website: https://www.debates.org/voter-education/debate-transcripts/\n",
    "\n",
    "To do this, you are not allowed to manually look up the URLs that you need, instead you have to scrape them. The root url to be scraped is the one listed above, namely: https://www.debates.org/voter-education/debate-transcripts/\n",
    "\n",
    "\n",
    "1. By using `requests` and `BeautifulSoup` find all the links / URLs on the website that links to transcriptions of **First Presidential Debates** from the years [1988, 1984, 1976, 1960]. In total you should find 4 links / URLs that fulfill this criteria. **Print the urls.**\n",
    "\n",
    "2. When you have a list of the URLs your task is to create a Data Frame with some statistics (see example of output below):\n",
    "    1. Scrape the title of each link and use that as the column name in your Data Frame. \n",
    "    2. Count how long the transcript of the debate is (as in the number of characters in transcription string). Feel free to include `\\` characters in your count, but remove any breakline characters, i.e. `\\n`. You will get credit if your count is +/- 10% from our result.\n",
    "    3. Count how many times the word **war** was used in the different debates. Note that you have to convert the text in a smart way (to not count the word **warranty** for example, but counting **war.**, **war!**, **war,** or **War** etc.\n",
    "    4. Also scrape the most common used word in the debate, and write how many times it was used. Note that you have to use the same strategy as in C in order to do this.\n",
    "    \n",
    "    **Print your final output result.**\n",
    "    \n",
    "**Tips:**\n",
    "\n",
    "___\n",
    "\n",
    "In order to solve the questions above, it can be useful to work with Regular Expressions and explore methods on strings like `.strip(), .replace(), .find(), .count(), .lower()` etc. Both are very powerful tools to do string processing in Python. To count common words for example I used a `Counter` object and a Regular expression pattern for only words, see example:\n",
    "\n",
    "```python\n",
    "    from collections import Counter\n",
    "    import re\n",
    "\n",
    "    counts = Counter(re.findall(r\"[\\w']+\", text.lower()))\n",
    "```\n",
    "\n",
    "Read more about Regular Expressions here: https://docs.python.org/3/howto/regex.html\n",
    "    \n",
    "    \n",
    "**Example output of all of the answers to Question 1.2:**\n",
    "\n",
    "\n",
    "![pres_stats_2](https://github.com/ikhlaqsidhu/data-x/raw/master/x-archive/misc/hw2_imgs_spring2018/presidents_stats_2.jpg)\n",
    "\n",
    "\n",
    "\n",
    "----\n",
    "\n",
    ".\n",
    "\n",
    "\n"
   ]
  },
  {
   "cell_type": "code",
   "execution_count": 75,
   "metadata": {},
   "outputs": [
    {
     "data": {
      "text/html": [
       "<style>.container { width:90% !important; }</style>"
      ],
      "text/plain": [
       "<IPython.core.display.HTML object>"
      ]
     },
     "metadata": {},
     "output_type": "display_data"
    }
   ],
   "source": [
    "from __future__ import division, print_function\n",
    "from collections import Counter\n",
    "\n",
    "from IPython.core.display import display, HTML\n",
    "display(HTML(\"<style>.container { width:90% !important; }</style>\"))\n",
    "\n",
    "import requests \n",
    "import bs4 as bs\n",
    "import numpy as np\n",
    "import pandas as pd\n",
    "import re"
   ]
  },
  {
   "cell_type": "code",
   "execution_count": 4,
   "metadata": {},
   "outputs": [
    {
     "name": "stdout",
     "output_type": "stream",
     "text": [
      "<Response [200]>\n"
     ]
    }
   ],
   "source": [
    "source = requests.get(\"https://www.debates.org/voter-education/debate-transcripts/\") \n",
    "print(source)"
   ]
  },
  {
   "cell_type": "code",
   "execution_count": 24,
   "metadata": {},
   "outputs": [
    {
     "data": {
      "text/plain": [
       "['https://www.debates.org/voter-education/debate-transcripts/october-7-1984-debate-transcript/',\n",
       " 'https://www.debates.org/voter-education/debate-transcripts/september-23-1976-debate-transcript/',\n",
       " 'https://www.debates.org/voter-education/debate-transcripts/september-25-1988-debate-transcript/',\n",
       " 'https://www.debates.org/voter-education/debate-transcripts/september-26-1960-debate-transcript/']"
      ]
     },
     "execution_count": 24,
     "metadata": {},
     "output_type": "execute_result"
    }
   ],
   "source": [
    "#1\n",
    "soup = bs.BeautifulSoup(source.content, features='html.parser')\n",
    "links = []\n",
    "for url in soup.find_all('a'): \n",
    "    link = url.get('href')\n",
    "    if '1988' in link:\n",
    "        links.append(link)\n",
    "    if '1984' in link:\n",
    "        links.append(link)\n",
    "    if '1976' in link:\n",
    "        links.append(link)\n",
    "    if '1960' in link:\n",
    "        links.append(link)\n",
    "first_pres_debates = np.unique(links)[9:]\n",
    "valid_url = ['https://www.debates.org' + url for url in first_pres_debates]\n",
    "valid_url"
   ]
  },
  {
   "cell_type": "code",
   "execution_count": 45,
   "metadata": {},
   "outputs": [
    {
     "data": {
      "text/plain": [
       "['September 25, 1988: The First Bush-Dukakis Presidential Debate',\n",
       " 'October 7, 1984: The First Reagan-Mondale Presidential Debate',\n",
       " 'September 23, 1976: The First Carter-Ford Presidential Debate',\n",
       " 'September 26, 1960: The First Kennedy-Nixon Presidential Debate']"
      ]
     },
     "execution_count": 45,
     "metadata": {},
     "output_type": "execute_result"
    }
   ],
   "source": [
    "#2a\n",
    "debate_1984 = bs.BeautifulSoup(requests.get(valid_url[0]).content, features='html.parser')\n",
    "debate_1976 = bs.BeautifulSoup(requests.get(valid_url[1]).content, features='html.parser')\n",
    "debate_1988 = bs.BeautifulSoup(requests.get(valid_url[2]).content, features='html.parser')\n",
    "debate_1960 = bs.BeautifulSoup(requests.get(valid_url[3]).content, features='html.parser')\n",
    "\n",
    "def get_title(soup):\n",
    "    title = []\n",
    "    for x in soup.find_all('strong'):\n",
    "        title.append(x.text)\n",
    "    return title[0]+': '+ title[1]\n",
    "titles = [get_title(debate_1988), get_title(debate_1984), get_title(debate_1976), get_title(debate_1960)]\n",
    "titles"
   ]
  },
  {
   "cell_type": "code",
   "execution_count": 59,
   "metadata": {},
   "outputs": [
    {
     "data": {
      "text/plain": [
       "[87469, 86490, 80717, 60917]"
      ]
     },
     "execution_count": 59,
     "metadata": {},
     "output_type": "execute_result"
    }
   ],
   "source": [
    "#2b\n",
    "def get_char_count(soup):\n",
    "    body = []\n",
    "    for x in soup.find_all('p'):\n",
    "        body.append(x.text)\n",
    "    transcription = body[2:]\n",
    "    debate_char_count = 0\n",
    "    for x in transcription:\n",
    "        debate_char_count += len(x) \n",
    "    return debate_char_count\n",
    "char_count = [get_char_count(debate_1988),get_char_count(debate_1984), get_char_count(debate_1976), get_char_count(debate_1960)]\n",
    "char_count"
   ]
  },
  {
   "cell_type": "code",
   "execution_count": 128,
   "metadata": {},
   "outputs": [
    {
     "data": {
      "text/plain": [
       "[8, 2, 7, 3]"
      ]
     },
     "execution_count": 128,
     "metadata": {},
     "output_type": "execute_result"
    }
   ],
   "source": [
    "#2c\n",
    "def get_transcription(soup):\n",
    "    body = []\n",
    "    for x in soup.find_all('p'):\n",
    "        body.append(x.text)\n",
    "    transcription = body[2:]\n",
    "    trans_combined = ''\n",
    "    for x in transcription:\n",
    "        trans_combined += x + ' '\n",
    "    return trans_combined\n",
    "\n",
    "t_1988 = get_transcription(debate_1988)\n",
    "t_1984 = get_transcription(debate_1984)\n",
    "t_1976 = get_transcription(debate_1976)\n",
    "t_1960 = get_transcription(debate_1960)\n",
    "\n",
    "\n",
    "def get_war_count(text):\n",
    "    lower = text.lower()\n",
    "    no_punc = re.sub(r'[^\\w\\s]',' ', lower)\n",
    "    return len(re.findall(r'\\bwar\\b', no_punc))\n",
    "\n",
    "war_count = [get_war_count(t_1988), get_war_count(t_1984), get_war_count(t_1976), get_war_count(t_1960)]\n",
    "\n",
    "war_count"
   ]
  },
  {
   "cell_type": "code",
   "execution_count": 158,
   "metadata": {},
   "outputs": [
    {
     "name": "stdout",
     "output_type": "stream",
     "text": [
      "[804, 867, 857, 779]\n",
      "['the', 'the', 'the', 'the']\n"
     ]
    }
   ],
   "source": [
    "#2d\n",
    "\n",
    "c_1988 = Counter(re.findall(r\"[\\w']+\", t_1988.lower())).most_common(1)[0]\n",
    "c_1984 = Counter(re.findall(r\"[\\w']+\", t_1984.lower())).most_common(1)[0]\n",
    "c_1976 = Counter(re.findall(r\"[\\w']+\", t_1976.lower())).most_common(1)[0]\n",
    "c_1960 = Counter(re.findall(r\"[\\w']+\", t_1960.lower())).most_common(1)[0]\n",
    "\n",
    "most_c_word = [c_1988[0], c_1984[0], c_1976[0], c_1960[0]]\n",
    "most_c_word_count = [c_1988[1], c_1984[1], c_1976[1], c_1960[1]]\n",
    "print(most_c_word_count)\n",
    "print(most_c_word)"
   ]
  },
  {
   "cell_type": "code",
   "execution_count": 236,
   "metadata": {},
   "outputs": [
    {
     "data": {
      "text/html": [
       "<div>\n",
       "<style scoped>\n",
       "    .dataframe tbody tr th:only-of-type {\n",
       "        vertical-align: middle;\n",
       "    }\n",
       "\n",
       "    .dataframe tbody tr th {\n",
       "        vertical-align: top;\n",
       "    }\n",
       "\n",
       "    .dataframe thead th {\n",
       "        text-align: right;\n",
       "    }\n",
       "</style>\n",
       "<table border=\"1\" class=\"dataframe\">\n",
       "  <thead>\n",
       "    <tr style=\"text-align: right;\">\n",
       "      <th></th>\n",
       "      <th>September 25, 1988: The First Bush-Dukakis Presidential Debate</th>\n",
       "      <th>October 7, 1984: The First Reagan-Mondale Presidential Debate</th>\n",
       "      <th>September 23, 1976: The First Carter-Ford Presidential Debate</th>\n",
       "      <th>September 26, 1960: The First Kennedy-Nixon Presidential Debate</th>\n",
       "    </tr>\n",
       "  </thead>\n",
       "  <tbody>\n",
       "    <tr>\n",
       "      <th>Debate char length</th>\n",
       "      <td>87469</td>\n",
       "      <td>86490</td>\n",
       "      <td>80717</td>\n",
       "      <td>60917</td>\n",
       "    </tr>\n",
       "    <tr>\n",
       "      <th>War count</th>\n",
       "      <td>8</td>\n",
       "      <td>2</td>\n",
       "      <td>7</td>\n",
       "      <td>3</td>\n",
       "    </tr>\n",
       "    <tr>\n",
       "      <th>Most common word</th>\n",
       "      <td>the</td>\n",
       "      <td>the</td>\n",
       "      <td>the</td>\n",
       "      <td>the</td>\n",
       "    </tr>\n",
       "    <tr>\n",
       "      <th>Most common word count</th>\n",
       "      <td>804</td>\n",
       "      <td>867</td>\n",
       "      <td>857</td>\n",
       "      <td>779</td>\n",
       "    </tr>\n",
       "  </tbody>\n",
       "</table>\n",
       "</div>"
      ],
      "text/plain": [
       "                       September 25, 1988: The First Bush-Dukakis Presidential Debate  \\\n",
       "Debate char length                                                  87469               \n",
       "War count                                                               8               \n",
       "Most common word                                                      the               \n",
       "Most common word count                                                804               \n",
       "\n",
       "                       October 7, 1984: The First Reagan-Mondale Presidential Debate  \\\n",
       "Debate char length                                                  86490              \n",
       "War count                                                               2              \n",
       "Most common word                                                      the              \n",
       "Most common word count                                                867              \n",
       "\n",
       "                       September 23, 1976: The First Carter-Ford Presidential Debate  \\\n",
       "Debate char length                                                  80717              \n",
       "War count                                                               7              \n",
       "Most common word                                                      the              \n",
       "Most common word count                                                857              \n",
       "\n",
       "                       September 26, 1960: The First Kennedy-Nixon Presidential Debate  \n",
       "Debate char length                                                  60917               \n",
       "War count                                                               3               \n",
       "Most common word                                                      the               \n",
       "Most common word count                                                779               "
      ]
     },
     "metadata": {},
     "output_type": "display_data"
    }
   ],
   "source": [
    "pres_debates= pd.DataFrame(np.array([char_count, war_count,most_c_word, most_c_word_count]),\n",
    "                           columns = titles,\n",
    "                           index = ['Debate char length', 'War count', 'Most common word', 'Most common word count'])\n",
    "display(pres_debates)"
   ]
  },
  {
   "cell_type": "markdown",
   "metadata": {},
   "source": [
    "    \n",
    "## 2. Download and read in specific line from many data sets\n",
    "\n",
    "Scrape the first 27 data sets from this URL http://people.sc.fsu.edu/~jburkardt/datasets/regression/ (i.e.`x01.txt` - `x27.txt`). Then, save the 5th line in each data set, this should be the name of the data set author (get rid of the `#` symbol, the white spaces and the comma at the end). \n",
    "\n",
    "Count how many times (with a Python function) each author is the reference for one of the 27 data sets. Showcase your results, sorted, with the most common author name first and how many times he appeared in data sets. Use a Pandas DataFrame to show your results, see example. **Print your final output result.**\n",
    "\n",
    "**Example output of the answer for Question 2:**\n",
    "\n",
    "![author_stats](https://github.com/ikhlaqsidhu/data-x/raw/master/x-archive/misc/hw2_imgs_spring2018/data_authors.png)\n"
   ]
  },
  {
   "cell_type": "code",
   "execution_count": 200,
   "metadata": {},
   "outputs": [
    {
     "data": {
      "text/plain": [
       "['Helmut Spaeth',\n",
       " 'Helmut Spaeth',\n",
       " 'Helmut Spaeth',\n",
       " 'Helmut Spaeth',\n",
       " 'Helmut Spaeth',\n",
       " 'R J Freund and P D Minton',\n",
       " 'D G Kleinbaum and L L Kupper',\n",
       " 'Helmut Spaeth',\n",
       " 'D G Kleinbaum and L L Kupper',\n",
       " 'K A Brownlee',\n",
       " 'Helmut Spaeth',\n",
       " 'Helmut Spaeth',\n",
       " 'S Chatterjee and B Price',\n",
       " 'Helmut Spaeth',\n",
       " 'Helmut Spaeth',\n",
       " 'Helmut Spaeth',\n",
       " 'Helmut Spaeth',\n",
       " 'Helmut Spaeth',\n",
       " 'R J Freund and P D Minton',\n",
       " 'Helmut Spaeth',\n",
       " 'Helmut Spaeth',\n",
       " 'Helmut Spaeth',\n",
       " 'S Chatterjee, B Price',\n",
       " 'S Chatterjee, B Price',\n",
       " 'S Chatterjee, B Price',\n",
       " 'S C Narula, J F Wellington',\n",
       " 'S C Narula, J F Wellington']"
      ]
     },
     "execution_count": 200,
     "metadata": {},
     "output_type": "execute_result"
    }
   ],
   "source": [
    "def get_author(txt):\n",
    "    raw = requests.get('http://people.sc.fsu.edu/~jburkardt/datasets/regression/'+ txt).content\n",
    "    soup = bs.BeautifulSoup(raw,features='html.parser')\n",
    "    line = str(soup.prettify().split('\\n')[4])\n",
    "    return re.sub(r' {2,}', '', line).strip('#').strip(',')\n",
    "\n",
    "txt_files = ['x01.txt', 'x02.txt', 'x03.txt', 'x04.txt', 'x05.txt', 'x06.txt', 'x07.txt', 'x08.txt', 'x09.txt', 'x10.txt',\n",
    "             'x11.txt','x12.txt', 'x13.txt', 'x14.txt', 'x15.txt', 'x16.txt', 'x17.txt', 'x18.txt', 'x19.txt', 'x20.txt',\n",
    "             'x21.txt', 'x22.txt', 'x23.txt', 'x24.txt', 'x25.txt', 'x26.txt', 'x27.txt']\n",
    "authors = list()\n",
    "for x in txt_files:\n",
    "    authors.append(get_author(x))\n",
    "authors"
   ]
  },
  {
   "cell_type": "code",
   "execution_count": 235,
   "metadata": {},
   "outputs": [
    {
     "data": {
      "text/html": [
       "<div>\n",
       "<style scoped>\n",
       "    .dataframe tbody tr th:only-of-type {\n",
       "        vertical-align: middle;\n",
       "    }\n",
       "\n",
       "    .dataframe tbody tr th {\n",
       "        vertical-align: top;\n",
       "    }\n",
       "\n",
       "    .dataframe thead th {\n",
       "        text-align: right;\n",
       "    }\n",
       "</style>\n",
       "<table border=\"1\" class=\"dataframe\">\n",
       "  <thead>\n",
       "    <tr style=\"text-align: right;\">\n",
       "      <th></th>\n",
       "      <th>Count</th>\n",
       "    </tr>\n",
       "    <tr>\n",
       "      <th>Authors</th>\n",
       "      <th></th>\n",
       "    </tr>\n",
       "  </thead>\n",
       "  <tbody>\n",
       "    <tr>\n",
       "      <th>Helmut Spaeth</th>\n",
       "      <td>16</td>\n",
       "    </tr>\n",
       "    <tr>\n",
       "      <th>S Chatterjee, B Price</th>\n",
       "      <td>3</td>\n",
       "    </tr>\n",
       "    <tr>\n",
       "      <th>R J Freund and P D Minton</th>\n",
       "      <td>2</td>\n",
       "    </tr>\n",
       "    <tr>\n",
       "      <th>D G Kleinbaum and L L Kupper</th>\n",
       "      <td>2</td>\n",
       "    </tr>\n",
       "    <tr>\n",
       "      <th>S C Narula, J F Wellington</th>\n",
       "      <td>2</td>\n",
       "    </tr>\n",
       "    <tr>\n",
       "      <th>K A Brownlee</th>\n",
       "      <td>1</td>\n",
       "    </tr>\n",
       "    <tr>\n",
       "      <th>S Chatterjee and B Price</th>\n",
       "      <td>1</td>\n",
       "    </tr>\n",
       "  </tbody>\n",
       "</table>\n",
       "</div>"
      ],
      "text/plain": [
       "                             Count\n",
       "Authors                           \n",
       "Helmut Spaeth                   16\n",
       "S Chatterjee, B Price            3\n",
       "R J Freund and P D Minton        2\n",
       "D G Kleinbaum and L L Kupper     2\n",
       "S C Narula, J F Wellington       2\n",
       "K A Brownlee                     1\n",
       "S Chatterjee and B Price         1"
      ]
     },
     "metadata": {},
     "output_type": "display_data"
    }
   ],
   "source": [
    "count_authors = Counter(authors)\n",
    "\n",
    "author_df = pd.DataFrame(np.array(count_authors.most_common()), columns = ['Authors', 'Count'])\n",
    "author_df.set_index('Authors', inplace = True)\n",
    "\n",
    "display(author_df)"
   ]
  },
  {
   "cell_type": "code",
   "execution_count": null,
   "metadata": {},
   "outputs": [],
   "source": []
  }
 ],
 "metadata": {
  "kernel_info": {
   "name": "data-x"
  },
  "kernelspec": {
   "display_name": "Python 3",
   "language": "python",
   "name": "python3"
  },
  "language_info": {
   "codemirror_mode": {
    "name": "ipython",
    "version": 3
   },
   "file_extension": ".py",
   "mimetype": "text/x-python",
   "name": "python",
   "nbconvert_exporter": "python",
   "pygments_lexer": "ipython3",
   "version": "3.7.1"
  },
  "nteract": {
   "version": "0.7.1"
  }
 },
 "nbformat": 4,
 "nbformat_minor": 2
}
