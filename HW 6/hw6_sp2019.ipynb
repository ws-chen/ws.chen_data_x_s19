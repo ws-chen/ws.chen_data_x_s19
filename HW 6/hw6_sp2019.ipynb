{
 "cells": [
  {
   "cell_type": "markdown",
   "metadata": {},
   "source": [
    "# Data-X Spring 2019: Homework 06 \n",
    "\n",
    "## Name : Wesley Chen\n",
    "## SID : 3031961388\n",
    "## Course (IEOR 135/290) : IEOR 135\n",
    "\n",
    "### Machine Learning\n",
    "\n",
    "\n",
    "\n",
    "In this homework, you will do some exercises with prediction. We will cover these algorithms in class, but this is for you to have some hands on with these in scikit-learn. You can refer - https://github.com/ikhlaqsidhu/data-x/blob/master/05a-tools-predicition-titanic/titanic.ipynb\n",
    "\n",
    "Display all your outputs.\n"
   ]
  },
  {
   "cell_type": "code",
   "execution_count": 193,
   "metadata": {},
   "outputs": [],
   "source": [
    "import numpy as np\n",
    "import pandas as pd"
   ]
  },
  {
   "cell_type": "code",
   "execution_count": 194,
   "metadata": {},
   "outputs": [],
   "source": [
    " # machine learning libraries\n",
    "from sklearn.linear_model import LogisticRegression\n",
    "from sklearn.ensemble import RandomForestClassifier\n",
    "from sklearn.ensemble import AdaBoostClassifier\n",
    "from sklearn.linear_model import Perceptron\n",
    "from sklearn.tree import DecisionTreeClassifier\n",
    "from sklearn.model_selection import train_test_split"
   ]
  },
  {
   "cell_type": "markdown",
   "metadata": {},
   "source": [
    "\n",
    "\n",
    "__ 1. Read __`diabetesdata.csv`__ file into a pandas dataframe. \n",
    "About the data: __\n",
    "\n",
    "1. __TimesPregnant__: Number of times pregnant \n",
    "2. __glucoseLevel__: Plasma glucose concentration a 2 hours in an oral glucose tolerance test \n",
    "3. __BP__: Diastolic blood pressure (mm Hg)  \n",
    "5. __insulin__: 2-Hour serum insulin (mu U/ml) \n",
    "6. __BMI__: Body mass index (weight in kg/(height in m)^2) \n",
    "7. __pedigree__: Diabetes pedigree function \n",
    "8. __Age__: Age (years) \n",
    "9. __IsDiabetic__: 0 if not diabetic or 1 if diabetic) \n",
    "\n",
    "\n",
    "\n",
    "\n",
    "\n",
    "\n"
   ]
  },
  {
   "cell_type": "code",
   "execution_count": 195,
   "metadata": {},
   "outputs": [
    {
     "data": {
      "text/html": [
       "<div>\n",
       "<style scoped>\n",
       "    .dataframe tbody tr th:only-of-type {\n",
       "        vertical-align: middle;\n",
       "    }\n",
       "\n",
       "    .dataframe tbody tr th {\n",
       "        vertical-align: top;\n",
       "    }\n",
       "\n",
       "    .dataframe thead th {\n",
       "        text-align: right;\n",
       "    }\n",
       "</style>\n",
       "<table border=\"1\" class=\"dataframe\">\n",
       "  <thead>\n",
       "    <tr style=\"text-align: right;\">\n",
       "      <th></th>\n",
       "      <th>TimesPregnant</th>\n",
       "      <th>glucoseLevel</th>\n",
       "      <th>BP</th>\n",
       "      <th>insulin</th>\n",
       "      <th>BMI</th>\n",
       "      <th>Pedigree</th>\n",
       "      <th>Age</th>\n",
       "      <th>IsDiabetic</th>\n",
       "    </tr>\n",
       "  </thead>\n",
       "  <tbody>\n",
       "    <tr>\n",
       "      <th>0</th>\n",
       "      <td>6</td>\n",
       "      <td>148.0</td>\n",
       "      <td>72</td>\n",
       "      <td>0</td>\n",
       "      <td>33.6</td>\n",
       "      <td>0.627</td>\n",
       "      <td>50.0</td>\n",
       "      <td>1</td>\n",
       "    </tr>\n",
       "    <tr>\n",
       "      <th>1</th>\n",
       "      <td>1</td>\n",
       "      <td>NaN</td>\n",
       "      <td>66</td>\n",
       "      <td>0</td>\n",
       "      <td>26.6</td>\n",
       "      <td>0.351</td>\n",
       "      <td>31.0</td>\n",
       "      <td>0</td>\n",
       "    </tr>\n",
       "    <tr>\n",
       "      <th>2</th>\n",
       "      <td>8</td>\n",
       "      <td>183.0</td>\n",
       "      <td>64</td>\n",
       "      <td>0</td>\n",
       "      <td>23.3</td>\n",
       "      <td>0.672</td>\n",
       "      <td>NaN</td>\n",
       "      <td>1</td>\n",
       "    </tr>\n",
       "    <tr>\n",
       "      <th>3</th>\n",
       "      <td>1</td>\n",
       "      <td>NaN</td>\n",
       "      <td>66</td>\n",
       "      <td>94</td>\n",
       "      <td>28.1</td>\n",
       "      <td>0.167</td>\n",
       "      <td>21.0</td>\n",
       "      <td>0</td>\n",
       "    </tr>\n",
       "    <tr>\n",
       "      <th>4</th>\n",
       "      <td>0</td>\n",
       "      <td>137.0</td>\n",
       "      <td>40</td>\n",
       "      <td>168</td>\n",
       "      <td>43.1</td>\n",
       "      <td>2.288</td>\n",
       "      <td>33.0</td>\n",
       "      <td>1</td>\n",
       "    </tr>\n",
       "  </tbody>\n",
       "</table>\n",
       "</div>"
      ],
      "text/plain": [
       "   TimesPregnant  glucoseLevel  BP  insulin   BMI  Pedigree   Age  IsDiabetic\n",
       "0              6         148.0  72        0  33.6     0.627  50.0           1\n",
       "1              1           NaN  66        0  26.6     0.351  31.0           0\n",
       "2              8         183.0  64        0  23.3     0.672   NaN           1\n",
       "3              1           NaN  66       94  28.1     0.167  21.0           0\n",
       "4              0         137.0  40      168  43.1     2.288  33.0           1"
      ]
     },
     "execution_count": 195,
     "metadata": {},
     "output_type": "execute_result"
    }
   ],
   "source": [
    "#Read data & print the head\n",
    "data = pd.DataFrame(pd.read_csv('diabetesdata.csv'))\n",
    "data.head()\n"
   ]
  },
  {
   "cell_type": "markdown",
   "metadata": {},
   "source": [
    "**2. Calculate the percentage of Null values in each column and display it. **"
   ]
  },
  {
   "cell_type": "code",
   "execution_count": 196,
   "metadata": {},
   "outputs": [
    {
     "name": "stdout",
     "output_type": "stream",
     "text": [
      "0.0\n",
      "0.044270833333333336\n",
      "0.0\n",
      "0.0\n",
      "0.0\n",
      "0.0\n",
      "0.04296875\n",
      "0.0\n"
     ]
    }
   ],
   "source": [
    "for i in range(8):\n",
    "    print(sum(data.iloc[:,i].isna())/ len(data.iloc[:,i]))"
   ]
  },
  {
   "cell_type": "markdown",
   "metadata": {},
   "source": [
    "**3. Split __`data`__  into  __`train_df`__ and __`test_df`__  with 15% as test.**\n"
   ]
  },
  {
   "cell_type": "code",
   "execution_count": 197,
   "metadata": {},
   "outputs": [],
   "source": [
    "train_df, test_df  = train_test_split(data, test_size=0.15, shuffle = True)"
   ]
  },
  {
   "cell_type": "markdown",
   "metadata": {},
   "source": [
    "**4. Display the means of the features in train and test sets. Replace the null values in  __`train_df`__ and __`test_df`__  with the mean of EACH feature column separately for train and test. Display head of the dataframes.**"
   ]
  },
  {
   "cell_type": "code",
   "execution_count": 198,
   "metadata": {},
   "outputs": [
    {
     "name": "stderr",
     "output_type": "stream",
     "text": [
      "/Users/wesleychen/anaconda3/envs/data-x/lib/python3.6/site-packages/pandas/core/generic.py:5434: SettingWithCopyWarning: \n",
      "A value is trying to be set on a copy of a slice from a DataFrame\n",
      "\n",
      "See the caveats in the documentation: http://pandas.pydata.org/pandas-docs/stable/indexing.html#indexing-view-versus-copy\n",
      "  self._update_inplace(new_data)\n"
     ]
    },
    {
     "data": {
      "text/html": [
       "<div>\n",
       "<style scoped>\n",
       "    .dataframe tbody tr th:only-of-type {\n",
       "        vertical-align: middle;\n",
       "    }\n",
       "\n",
       "    .dataframe tbody tr th {\n",
       "        vertical-align: top;\n",
       "    }\n",
       "\n",
       "    .dataframe thead th {\n",
       "        text-align: right;\n",
       "    }\n",
       "</style>\n",
       "<table border=\"1\" class=\"dataframe\">\n",
       "  <thead>\n",
       "    <tr style=\"text-align: right;\">\n",
       "      <th></th>\n",
       "      <th>TimesPregnant</th>\n",
       "      <th>glucoseLevel</th>\n",
       "      <th>BP</th>\n",
       "      <th>insulin</th>\n",
       "      <th>BMI</th>\n",
       "      <th>Pedigree</th>\n",
       "      <th>Age</th>\n",
       "      <th>IsDiabetic</th>\n",
       "    </tr>\n",
       "  </thead>\n",
       "  <tbody>\n",
       "    <tr>\n",
       "      <th>683</th>\n",
       "      <td>4</td>\n",
       "      <td>125.0</td>\n",
       "      <td>80</td>\n",
       "      <td>0</td>\n",
       "      <td>32.3</td>\n",
       "      <td>0.536</td>\n",
       "      <td>27.0</td>\n",
       "      <td>1</td>\n",
       "    </tr>\n",
       "    <tr>\n",
       "      <th>360</th>\n",
       "      <td>5</td>\n",
       "      <td>189.0</td>\n",
       "      <td>64</td>\n",
       "      <td>325</td>\n",
       "      <td>31.2</td>\n",
       "      <td>0.583</td>\n",
       "      <td>29.0</td>\n",
       "      <td>1</td>\n",
       "    </tr>\n",
       "    <tr>\n",
       "      <th>427</th>\n",
       "      <td>1</td>\n",
       "      <td>181.0</td>\n",
       "      <td>64</td>\n",
       "      <td>180</td>\n",
       "      <td>34.1</td>\n",
       "      <td>0.328</td>\n",
       "      <td>38.0</td>\n",
       "      <td>1</td>\n",
       "    </tr>\n",
       "    <tr>\n",
       "      <th>350</th>\n",
       "      <td>4</td>\n",
       "      <td>92.0</td>\n",
       "      <td>80</td>\n",
       "      <td>0</td>\n",
       "      <td>42.2</td>\n",
       "      <td>0.237</td>\n",
       "      <td>29.0</td>\n",
       "      <td>0</td>\n",
       "    </tr>\n",
       "    <tr>\n",
       "      <th>567</th>\n",
       "      <td>6</td>\n",
       "      <td>92.0</td>\n",
       "      <td>62</td>\n",
       "      <td>126</td>\n",
       "      <td>32.0</td>\n",
       "      <td>0.085</td>\n",
       "      <td>46.0</td>\n",
       "      <td>0</td>\n",
       "    </tr>\n",
       "  </tbody>\n",
       "</table>\n",
       "</div>"
      ],
      "text/plain": [
       "     TimesPregnant  glucoseLevel  BP  insulin   BMI  Pedigree   Age  \\\n",
       "683              4         125.0  80        0  32.3     0.536  27.0   \n",
       "360              5         189.0  64      325  31.2     0.583  29.0   \n",
       "427              1         181.0  64      180  34.1     0.328  38.0   \n",
       "350              4          92.0  80        0  42.2     0.237  29.0   \n",
       "567              6          92.0  62      126  32.0     0.085  46.0   \n",
       "\n",
       "     IsDiabetic  \n",
       "683           1  \n",
       "360           1  \n",
       "427           1  \n",
       "350           0  \n",
       "567           0  "
      ]
     },
     "metadata": {},
     "output_type": "display_data"
    },
    {
     "data": {
      "text/html": [
       "<div>\n",
       "<style scoped>\n",
       "    .dataframe tbody tr th:only-of-type {\n",
       "        vertical-align: middle;\n",
       "    }\n",
       "\n",
       "    .dataframe tbody tr th {\n",
       "        vertical-align: top;\n",
       "    }\n",
       "\n",
       "    .dataframe thead th {\n",
       "        text-align: right;\n",
       "    }\n",
       "</style>\n",
       "<table border=\"1\" class=\"dataframe\">\n",
       "  <thead>\n",
       "    <tr style=\"text-align: right;\">\n",
       "      <th></th>\n",
       "      <th>TimesPregnant</th>\n",
       "      <th>glucoseLevel</th>\n",
       "      <th>BP</th>\n",
       "      <th>insulin</th>\n",
       "      <th>BMI</th>\n",
       "      <th>Pedigree</th>\n",
       "      <th>Age</th>\n",
       "      <th>IsDiabetic</th>\n",
       "    </tr>\n",
       "  </thead>\n",
       "  <tbody>\n",
       "    <tr>\n",
       "      <th>558</th>\n",
       "      <td>11</td>\n",
       "      <td>103.0</td>\n",
       "      <td>68</td>\n",
       "      <td>0</td>\n",
       "      <td>46.2</td>\n",
       "      <td>0.126</td>\n",
       "      <td>42.0</td>\n",
       "      <td>0</td>\n",
       "    </tr>\n",
       "    <tr>\n",
       "      <th>173</th>\n",
       "      <td>1</td>\n",
       "      <td>79.0</td>\n",
       "      <td>60</td>\n",
       "      <td>48</td>\n",
       "      <td>43.5</td>\n",
       "      <td>0.678</td>\n",
       "      <td>23.0</td>\n",
       "      <td>0</td>\n",
       "    </tr>\n",
       "    <tr>\n",
       "      <th>628</th>\n",
       "      <td>5</td>\n",
       "      <td>128.0</td>\n",
       "      <td>80</td>\n",
       "      <td>0</td>\n",
       "      <td>34.6</td>\n",
       "      <td>0.144</td>\n",
       "      <td>45.0</td>\n",
       "      <td>0</td>\n",
       "    </tr>\n",
       "    <tr>\n",
       "      <th>465</th>\n",
       "      <td>0</td>\n",
       "      <td>124.0</td>\n",
       "      <td>56</td>\n",
       "      <td>105</td>\n",
       "      <td>21.8</td>\n",
       "      <td>0.452</td>\n",
       "      <td>21.0</td>\n",
       "      <td>0</td>\n",
       "    </tr>\n",
       "    <tr>\n",
       "      <th>346</th>\n",
       "      <td>1</td>\n",
       "      <td>139.0</td>\n",
       "      <td>46</td>\n",
       "      <td>83</td>\n",
       "      <td>28.7</td>\n",
       "      <td>0.654</td>\n",
       "      <td>22.0</td>\n",
       "      <td>0</td>\n",
       "    </tr>\n",
       "  </tbody>\n",
       "</table>\n",
       "</div>"
      ],
      "text/plain": [
       "     TimesPregnant  glucoseLevel  BP  insulin   BMI  Pedigree   Age  \\\n",
       "558             11         103.0  68        0  46.2     0.126  42.0   \n",
       "173              1          79.0  60       48  43.5     0.678  23.0   \n",
       "628              5         128.0  80        0  34.6     0.144  45.0   \n",
       "465              0         124.0  56      105  21.8     0.452  21.0   \n",
       "346              1         139.0  46       83  28.7     0.654  22.0   \n",
       "\n",
       "     IsDiabetic  \n",
       "558           0  \n",
       "173           0  \n",
       "628           0  \n",
       "465           0  \n",
       "346           0  "
      ]
     },
     "metadata": {},
     "output_type": "display_data"
    }
   ],
   "source": [
    "train_glucose_mean = train_df['glucoseLevel'].mean()\n",
    "train_age_mean = train_df['Age'].mean()\n",
    "\n",
    "test_glucose_mean = test_df['glucoseLevel'].mean()\n",
    "test_age_mean = test_df['Age'].mean()\n",
    "\n",
    "train_df['glucoseLevel'].fillna(train_glucose_mean, inplace = True)\n",
    "train_df['Age'].fillna(train_age_mean, inplace = True)\n",
    "\n",
    "test_df['glucoseLevel'].fillna(test_glucose_mean, inplace = True)\n",
    "test_df['Age'].fillna(test_age_mean, inplace = True)\n",
    "\n",
    "display(train_df.head())\n",
    "display(test_df.head())"
   ]
  },
  {
   "cell_type": "markdown",
   "metadata": {},
   "source": [
    "**5. Split __`train_df`__ & __`test_df`__   into  __`X_train`__, __`Y_train`__  and __`X_test`__, __`Y_test`__. __`Y_train`__  and __`Y_test`__ should only have the column we are trying to predict,  __`IsDiabetic`__.**"
   ]
  },
  {
   "cell_type": "code",
   "execution_count": 199,
   "metadata": {},
   "outputs": [
    {
     "data": {
      "text/html": [
       "<div>\n",
       "<style scoped>\n",
       "    .dataframe tbody tr th:only-of-type {\n",
       "        vertical-align: middle;\n",
       "    }\n",
       "\n",
       "    .dataframe tbody tr th {\n",
       "        vertical-align: top;\n",
       "    }\n",
       "\n",
       "    .dataframe thead th {\n",
       "        text-align: right;\n",
       "    }\n",
       "</style>\n",
       "<table border=\"1\" class=\"dataframe\">\n",
       "  <thead>\n",
       "    <tr style=\"text-align: right;\">\n",
       "      <th></th>\n",
       "      <th>TimesPregnant</th>\n",
       "      <th>glucoseLevel</th>\n",
       "      <th>BP</th>\n",
       "      <th>insulin</th>\n",
       "      <th>BMI</th>\n",
       "      <th>Pedigree</th>\n",
       "      <th>Age</th>\n",
       "    </tr>\n",
       "  </thead>\n",
       "  <tbody>\n",
       "    <tr>\n",
       "      <th>683</th>\n",
       "      <td>4</td>\n",
       "      <td>125.0</td>\n",
       "      <td>80</td>\n",
       "      <td>0</td>\n",
       "      <td>32.3</td>\n",
       "      <td>0.536</td>\n",
       "      <td>27.0</td>\n",
       "    </tr>\n",
       "    <tr>\n",
       "      <th>360</th>\n",
       "      <td>5</td>\n",
       "      <td>189.0</td>\n",
       "      <td>64</td>\n",
       "      <td>325</td>\n",
       "      <td>31.2</td>\n",
       "      <td>0.583</td>\n",
       "      <td>29.0</td>\n",
       "    </tr>\n",
       "    <tr>\n",
       "      <th>427</th>\n",
       "      <td>1</td>\n",
       "      <td>181.0</td>\n",
       "      <td>64</td>\n",
       "      <td>180</td>\n",
       "      <td>34.1</td>\n",
       "      <td>0.328</td>\n",
       "      <td>38.0</td>\n",
       "    </tr>\n",
       "    <tr>\n",
       "      <th>350</th>\n",
       "      <td>4</td>\n",
       "      <td>92.0</td>\n",
       "      <td>80</td>\n",
       "      <td>0</td>\n",
       "      <td>42.2</td>\n",
       "      <td>0.237</td>\n",
       "      <td>29.0</td>\n",
       "    </tr>\n",
       "    <tr>\n",
       "      <th>567</th>\n",
       "      <td>6</td>\n",
       "      <td>92.0</td>\n",
       "      <td>62</td>\n",
       "      <td>126</td>\n",
       "      <td>32.0</td>\n",
       "      <td>0.085</td>\n",
       "      <td>46.0</td>\n",
       "    </tr>\n",
       "  </tbody>\n",
       "</table>\n",
       "</div>"
      ],
      "text/plain": [
       "     TimesPregnant  glucoseLevel  BP  insulin   BMI  Pedigree   Age\n",
       "683              4         125.0  80        0  32.3     0.536  27.0\n",
       "360              5         189.0  64      325  31.2     0.583  29.0\n",
       "427              1         181.0  64      180  34.1     0.328  38.0\n",
       "350              4          92.0  80        0  42.2     0.237  29.0\n",
       "567              6          92.0  62      126  32.0     0.085  46.0"
      ]
     },
     "metadata": {},
     "output_type": "display_data"
    },
    {
     "data": {
      "text/plain": [
       "683    1\n",
       "360    1\n",
       "427    1\n",
       "350    0\n",
       "567    0\n",
       "Name: IsDiabetic, dtype: int64"
      ]
     },
     "metadata": {},
     "output_type": "display_data"
    },
    {
     "data": {
      "text/html": [
       "<div>\n",
       "<style scoped>\n",
       "    .dataframe tbody tr th:only-of-type {\n",
       "        vertical-align: middle;\n",
       "    }\n",
       "\n",
       "    .dataframe tbody tr th {\n",
       "        vertical-align: top;\n",
       "    }\n",
       "\n",
       "    .dataframe thead th {\n",
       "        text-align: right;\n",
       "    }\n",
       "</style>\n",
       "<table border=\"1\" class=\"dataframe\">\n",
       "  <thead>\n",
       "    <tr style=\"text-align: right;\">\n",
       "      <th></th>\n",
       "      <th>TimesPregnant</th>\n",
       "      <th>glucoseLevel</th>\n",
       "      <th>BP</th>\n",
       "      <th>insulin</th>\n",
       "      <th>BMI</th>\n",
       "      <th>Pedigree</th>\n",
       "      <th>Age</th>\n",
       "    </tr>\n",
       "  </thead>\n",
       "  <tbody>\n",
       "    <tr>\n",
       "      <th>558</th>\n",
       "      <td>11</td>\n",
       "      <td>103.0</td>\n",
       "      <td>68</td>\n",
       "      <td>0</td>\n",
       "      <td>46.2</td>\n",
       "      <td>0.126</td>\n",
       "      <td>42.0</td>\n",
       "    </tr>\n",
       "    <tr>\n",
       "      <th>173</th>\n",
       "      <td>1</td>\n",
       "      <td>79.0</td>\n",
       "      <td>60</td>\n",
       "      <td>48</td>\n",
       "      <td>43.5</td>\n",
       "      <td>0.678</td>\n",
       "      <td>23.0</td>\n",
       "    </tr>\n",
       "    <tr>\n",
       "      <th>628</th>\n",
       "      <td>5</td>\n",
       "      <td>128.0</td>\n",
       "      <td>80</td>\n",
       "      <td>0</td>\n",
       "      <td>34.6</td>\n",
       "      <td>0.144</td>\n",
       "      <td>45.0</td>\n",
       "    </tr>\n",
       "    <tr>\n",
       "      <th>465</th>\n",
       "      <td>0</td>\n",
       "      <td>124.0</td>\n",
       "      <td>56</td>\n",
       "      <td>105</td>\n",
       "      <td>21.8</td>\n",
       "      <td>0.452</td>\n",
       "      <td>21.0</td>\n",
       "    </tr>\n",
       "    <tr>\n",
       "      <th>346</th>\n",
       "      <td>1</td>\n",
       "      <td>139.0</td>\n",
       "      <td>46</td>\n",
       "      <td>83</td>\n",
       "      <td>28.7</td>\n",
       "      <td>0.654</td>\n",
       "      <td>22.0</td>\n",
       "    </tr>\n",
       "  </tbody>\n",
       "</table>\n",
       "</div>"
      ],
      "text/plain": [
       "     TimesPregnant  glucoseLevel  BP  insulin   BMI  Pedigree   Age\n",
       "558             11         103.0  68        0  46.2     0.126  42.0\n",
       "173              1          79.0  60       48  43.5     0.678  23.0\n",
       "628              5         128.0  80        0  34.6     0.144  45.0\n",
       "465              0         124.0  56      105  21.8     0.452  21.0\n",
       "346              1         139.0  46       83  28.7     0.654  22.0"
      ]
     },
     "metadata": {},
     "output_type": "display_data"
    },
    {
     "data": {
      "text/plain": [
       "558    0\n",
       "173    0\n",
       "628    0\n",
       "465    0\n",
       "346    0\n",
       "Name: IsDiabetic, dtype: int64"
      ]
     },
     "metadata": {},
     "output_type": "display_data"
    }
   ],
   "source": [
    "x_train = train_df.drop('IsDiabetic', axis =1)\n",
    "y_train = train_df['IsDiabetic']\n",
    "x_test = test_df.drop('IsDiabetic', axis =1)\n",
    "y_test = test_df['IsDiabetic']\n",
    "\n",
    "display(x_train.head(), y_train.head(), x_test.head(), y_test.head())"
   ]
  },
  {
   "cell_type": "markdown",
   "metadata": {},
   "source": [
    "**6. Use this dataset to train perceptron, logistic regression and random forest models using 15% test split. Report training and test accuracies. Try different hyperparameter values for these models and see if you can improve your accuracies.**"
   ]
  },
  {
   "cell_type": "code",
   "execution_count": 246,
   "metadata": {},
   "outputs": [
    {
     "name": "stdout",
     "output_type": "stream",
     "text": [
      "Logistic Regression training accuracy: 77.15 %\n",
      "Logistic Regression testing accuracy: 81.9 %\n",
      "C = 10 Logistic Regression training accuracy: 77.61 %\n",
      "C = 10 Logistic Regression testing accuracy: 81.03 %\n",
      "C = 8 Logistic Regression training accuracy: 77.76 %\n",
      "C = 8 Logistic Regression testing accuracy: 81.03 %\n"
     ]
    },
    {
     "name": "stderr",
     "output_type": "stream",
     "text": [
      "/Users/wesleychen/anaconda3/envs/data-x/lib/python3.6/site-packages/sklearn/linear_model/logistic.py:433: FutureWarning: Default solver will be changed to 'lbfgs' in 0.22. Specify a solver to silence this warning.\n",
      "  FutureWarning)\n",
      "/Users/wesleychen/anaconda3/envs/data-x/lib/python3.6/site-packages/sklearn/linear_model/logistic.py:433: FutureWarning: Default solver will be changed to 'lbfgs' in 0.22. Specify a solver to silence this warning.\n",
      "  FutureWarning)\n",
      "/Users/wesleychen/anaconda3/envs/data-x/lib/python3.6/site-packages/sklearn/linear_model/logistic.py:433: FutureWarning: Default solver will be changed to 'lbfgs' in 0.22. Specify a solver to silence this warning.\n",
      "  FutureWarning)\n"
     ]
    }
   ],
   "source": [
    "# 6a. Logistic Regression\n",
    "\n",
    "logreg = LogisticRegression()\n",
    "logreg.fit(x_train, y_train)\n",
    "train_acc_logreg = logreg.score(x_train, y_train)\n",
    "test_acc_logreg = logreg.score(x_test,y_test)\n",
    "\n",
    "print('Logistic Regression training accuracy:', str(round(train_acc_logreg*100,2)),'%')\n",
    "print('Logistic Regression testing accuracy:', str(round(test_acc_logreg*100,2)),'%')\n",
    "\n",
    "a_logreg = LogisticRegression(C = 10)\n",
    "a_logreg.fit(x_train, y_train)\n",
    "a_train_acc_logreg = a_logreg.score(x_train, y_train)\n",
    "a_test_acc_logreg = a_logreg.score(x_test,y_test)\n",
    "\n",
    "print('C = 10 Logistic Regression training accuracy:', str(round(a_train_acc_logreg*100,2)),'%')\n",
    "print('C = 10 Logistic Regression testing accuracy:', str(round(a_test_acc_logreg*100,2)),'%')\n",
    "\n",
    "b_logreg = LogisticRegression(C = 8)\n",
    "b_logreg.fit(x_train, y_train)\n",
    "b_train_acc_logreg = b_logreg.score(x_train, y_train)\n",
    "b_test_acc_logreg = b_logreg.score(x_test,y_test)\n",
    "\n",
    "print('C = 8 Logistic Regression training accuracy:', str(round(b_train_acc_logreg*100,2)),'%')\n",
    "print('C = 8 Logistic Regression testing accuracy:', str(round(b_test_acc_logreg*100,2)),'%')"
   ]
  },
  {
   "cell_type": "code",
   "execution_count": 230,
   "metadata": {},
   "outputs": [
    {
     "name": "stdout",
     "output_type": "stream",
     "text": [
      "Perceptron training accuracy: 63.5 %\n",
      "Perceptron testing accuracy: 75.0 %\n",
      "tol = 0.01 Perceptron training accuracy: 64.88 %\n",
      "tol = 0.01 Perceptron testing accuracy: 74.14 %\n",
      "Max_iter = 0.1 Perceptron training accuracy: 63.8 %\n",
      "Max_iter = 0.1 Perceptron testing accuracy: 72.41 %\n"
     ]
    },
    {
     "name": "stderr",
     "output_type": "stream",
     "text": [
      "/Users/wesleychen/anaconda3/envs/data-x/lib/python3.6/site-packages/sklearn/linear_model/stochastic_gradient.py:166: FutureWarning: max_iter and tol parameters have been added in Perceptron in 0.19. If both are left unset, they default to max_iter=5 and tol=None. If tol is not None, max_iter defaults to max_iter=1000. From 0.21, default max_iter will be 1000, and default tol will be 1e-3.\n",
      "  FutureWarning)\n",
      "/Users/wesleychen/anaconda3/envs/data-x/lib/python3.6/site-packages/sklearn/linear_model/stochastic_gradient.py:183: FutureWarning: max_iter and tol parameters have been added in Perceptron in 0.19. If max_iter is set but tol is left unset, the default value for tol in 0.19 and 0.20 will be None (which is equivalent to -infinity, so it has no effect) but will change in 0.21 to 1e-3. Specify tol to silence this warning.\n",
      "  FutureWarning)\n"
     ]
    }
   ],
   "source": [
    "# 6b. Perceptron\n",
    "perceptron = Perceptron()\n",
    "perceptron.fit(x_train, y_train)\n",
    "train_acc_perceptron = perceptron.score(x_train, y_train)\n",
    "test_acc_perceptron = perceptron.score(x_test, y_test)\n",
    "\n",
    "print('Perceptron training accuracy:', str(round(train_acc_perceptron*100,2)),'%')\n",
    "print('Perceptron testing accuracy:', str(round(test_acc_perceptron*100,2)),'%')\n",
    "\n",
    "a_perceptron = Perceptron(tol = 0.01)\n",
    "a_perceptron.fit(x_train, y_train)\n",
    "a_train_acc_perceptron = a_perceptron.score(x_train, y_train)\n",
    "a_test_acc_perceptron = a_perceptron.score(x_test, y_test)\n",
    "\n",
    "print('tol = 0.01 Perceptron training accuracy:', str(round(a_train_acc_perceptron*100,2)),'%')\n",
    "print('tol = 0.01 Perceptron testing accuracy:', str(round(a_test_acc_perceptron*100,2)),'%')\n",
    "\n",
    "b_perceptron = Perceptron(max_iter = 0.1)\n",
    "b_perceptron.fit(x_train, y_train)\n",
    "b_train_acc_perceptron = b_perceptron.score(x_train, y_train)\n",
    "b_test_acc_perceptron = b_perceptron.score(x_test, y_test)\n",
    "\n",
    "print('Max_iter = 0.1 Perceptron training accuracy:', str(round(b_train_acc_perceptron*100,2)),'%')\n",
    "print('Max_iter = 0.1 Perceptron testing accuracy:', str(round(b_test_acc_perceptron*100,2)),'%')"
   ]
  },
  {
   "cell_type": "code",
   "execution_count": 203,
   "metadata": {},
   "outputs": [
    {
     "name": "stdout",
     "output_type": "stream",
     "text": [
      "K-Nearest Neighbors training accuracy: 100.0 %\n",
      "K-Nearest Neighbors testing accuracy: 77.59 %\n",
      "n_estimators = 100 K-Nearest Neighbors training accuracy: 100.0 %\n",
      "n_estimators = 100 K-Nearest Neighbors testing accuracy: 79.31 %\n",
      "bootstrap = False K-Nearest Neighbors training accuracy: 100.0 %\n",
      "bootstrap = False K-Nearest Neighbors testing accuracy: 79.31 %\n"
     ]
    }
   ],
   "source": [
    "# 6c. Random Forest\n",
    "\n",
    "random_forest = RandomForestClassifier(n_estimators=500)\n",
    "random_forest.fit(x_train, y_train)\n",
    "train_acc_rf = random_forest.score(x_train, y_train)\n",
    "test_acc_rf = random_forest.score(x_test, y_test)\n",
    "\n",
    "print('K-Nearest Neighbors training accuracy:', str(round(train_acc_rf*100,2)),'%')\n",
    "print('K-Nearest Neighbors testing accuracy:', str(round(test_acc_rf*100,2)),'%')\n",
    "\n",
    "a_random_forest = RandomForestClassifier(n_estimators=100)\n",
    "a_random_forest.fit(x_train, y_train)\n",
    "a_train_acc_rf = a_random_forest.score(x_train, y_train)\n",
    "a_test_acc_rf = a_random_forest.score(x_test, y_test)\n",
    "\n",
    "print('n_estimators = 100 K-Nearest Neighbors training accuracy:', str(round(a_train_acc_rf*100,2)),'%')\n",
    "print('n_estimators = 100 K-Nearest Neighbors testing accuracy:', str(round(a_test_acc_rf*100,2)),'%')\n",
    "\n",
    "b_random_forest = RandomForestClassifier(n_estimators=500, bootstrap = False)\n",
    "b_random_forest.fit(x_train, y_train)\n",
    "b_train_acc_rf = b_random_forest.score(x_train, y_train)\n",
    "b_test_acc_rf = b_random_forest.score(x_test, y_test)\n",
    "\n",
    "print('bootstrap = False K-Nearest Neighbors training accuracy:', str(round(b_train_acc_rf*100,2)),'%')\n",
    "print('bootstrap = False K-Nearest Neighbors testing accuracy:', str(round(b_test_acc_rf*100,2)),'%')"
   ]
  },
  {
   "cell_type": "markdown",
   "metadata": {},
   "source": [
    "**7. For your logistic regression model - **\n",
    "\n",
    "**a . Compute the log probability of classes in  __`IsDiabetic`__ for the first 10 samples of your train set and display it. Also display the predicted class for those samples from your logistic regression model trained before. **\n"
   ]
  },
  {
   "cell_type": "code",
   "execution_count": 260,
   "metadata": {},
   "outputs": [
    {
     "data": {
      "text/plain": [
       "array([[-0.42139495, -1.06749426],\n",
       "       [-1.40807299, -0.28052667],\n",
       "       [-1.06434592, -0.42304891],\n",
       "       [-0.27971233, -1.41059192],\n",
       "       [-0.23981822, -1.54538794],\n",
       "       [-0.46134733, -0.99542505],\n",
       "       [-0.19647614, -1.72384443],\n",
       "       [-2.02303877, -0.14185504],\n",
       "       [-1.79148978, -0.1823755 ],\n",
       "       [-0.9262286 , -0.50425483]])"
      ]
     },
     "metadata": {},
     "output_type": "display_data"
    },
    {
     "data": {
      "text/plain": [
       "array([0, 1, 1, 0, 0, 0, 0, 1, 1, 1])"
      ]
     },
     "metadata": {},
     "output_type": "display_data"
    }
   ],
   "source": [
    "display(logreg.predict_log_proba(train_df.iloc[:10,:7]))\n",
    "display(logreg.predict(train_df.iloc[:10,:7]))"
   ]
  },
  {
   "cell_type": "markdown",
   "metadata": {},
   "source": [
    "**b . Now compute the log probability of classes in  __`IsDiabetic`__ for the first 10 samples of your test set and display it. Also display the predicted class for those samples from your logistic regression model trained before.\n",
    " (using the model trained on the training set)**\n"
   ]
  },
  {
   "cell_type": "code",
   "execution_count": 261,
   "metadata": {},
   "outputs": [
    {
     "data": {
      "text/plain": [
       "array([[-0.90184896, -0.52057066],\n",
       "       [-0.26347628, -1.46263927],\n",
       "       [-0.48872079, -0.95039207],\n",
       "       [-0.19294558, -1.74026921],\n",
       "       [-0.54756412, -0.86359606],\n",
       "       [-0.84166228, -0.56386342],\n",
       "       [-0.17459089, -1.83133552],\n",
       "       [-1.84491502, -0.17202129],\n",
       "       [-0.06659541, -2.74223254],\n",
       "       [-0.07295434, -2.65417698]])"
      ]
     },
     "metadata": {},
     "output_type": "display_data"
    },
    {
     "data": {
      "text/plain": [
       "array([1, 0, 0, 0, 0, 1, 0, 1, 0, 0])"
      ]
     },
     "metadata": {},
     "output_type": "display_data"
    }
   ],
   "source": [
    "display(logreg.predict_log_proba(test_df.iloc[:10,:7]))\n",
    "display(logreg.predict(test_df.iloc[:10,:7]))"
   ]
  },
  {
   "cell_type": "markdown",
   "metadata": {},
   "source": [
    "**c . What can you interpret from the log probabilities and the predicted classes?**\n",
    "\n"
   ]
  },
  {
   "cell_type": "markdown",
   "metadata": {},
   "source": [
    "Log probabilities gives the log of the probability that the predicted class is either 1 or 0. "
   ]
  },
  {
   "cell_type": "markdown",
   "metadata": {},
   "source": [
    "**8. Is mean imputation is the best type of imputation (as we did in 4.) to use? Why or why not? What are some other ways to impute the data?**"
   ]
  },
  {
   "cell_type": "markdown",
   "metadata": {},
   "source": [
    "Mean is not the best type of imputation because outliers can affect it. Median might be a better way to impute the data because outliers won't affect it and it might maintain the same whole number inputs as the other inputs whereas the mean would most likely not. "
   ]
  },
  {
   "cell_type": "markdown",
   "metadata": {},
   "source": [
    "## Extra Credit (2 pts) - MANDATORY for students enrolled in IEOR 290"
   ]
  },
  {
   "cell_type": "markdown",
   "metadata": {},
   "source": [
    "\n",
    "**9.  Implement the K-Nearest Neighbours (https://en.wikipedia.org/wiki/K-nearest_neighbors_algorithm) algorithm for k=1 from scratch in python (do not use KNN from existing libraries). KNN uses Euclidean distance to find nearest neighbors. Split your dataset into test and train as before. Also fill in the null values with mean of features as done earlier. Use this algorithm to predict values for 'IsDiabetic' for your test set. Display your accuracy. **"
   ]
  },
  {
   "cell_type": "code",
   "execution_count": null,
   "metadata": {},
   "outputs": [],
   "source": []
  }
 ],
 "metadata": {
  "kernel_info": {
   "name": "data-x"
  },
  "kernelspec": {
   "display_name": "Python 3",
   "language": "python",
   "name": "python3"
  },
  "language_info": {
   "codemirror_mode": {
    "name": "ipython",
    "version": 3
   },
   "file_extension": ".py",
   "mimetype": "text/x-python",
   "name": "python",
   "nbconvert_exporter": "python",
   "pygments_lexer": "ipython3",
   "version": "3.6.7"
  },
  "nteract": {
   "version": "0.7.1"
  }
 },
 "nbformat": 4,
 "nbformat_minor": 2
}
