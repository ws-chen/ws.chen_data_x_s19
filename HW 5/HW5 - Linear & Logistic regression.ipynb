{
 "cells": [
  {
   "cell_type": "markdown",
   "metadata": {},
   "source": [
    "# Data-X Spring 2019: Homework 05\n",
    "\n",
    "### Linear regression & Logistic regression\n",
    "\n",
    "\n",
    "\n",
    "## Name: Wesley Chen\n",
    "\n",
    "## SID: 3031961388\n",
    "\n",
    "\n",
    "\n",
    "\n",
    "In this homework, you will do some exercises on prediction using sklearn. \n",
    "\n",
    "REMEMBER TO DISPLAY ALL OUTPUTS. If the question asks you to do something, make sure to print your results.\n"
   ]
  },
  {
   "cell_type": "markdown",
   "metadata": {},
   "source": [
    "## Part 1 - Regression"
   ]
  },
  {
   "cell_type": "markdown",
   "metadata": {},
   "source": [
    "\n",
    "### Data:\n",
    "__Data Source__:\n",
    "Data file is uploaded to bCourses and is named: __Energy.csv__ \n",
    "(Link in the Assignment details page on Bcourses) \n",
    "\n",
    "The dataset was created by Angeliki Xifara ( Civil/Structural Engineer) and was processed by Athanasios Tsanas, Oxford Centre for Industrial and Applied Mathematics, University of Oxford, UK).\n",
    "\n",
    "__Data Description__:\n",
    "\n",
    "The dataset contains eight attributes of a building (or features, denoted by X1...X8) and response being the heating load on the building, y1. \n",
    "\n",
    "* X1\tRelative Compactness \n",
    "* X2\tSurface Area \n",
    "* X3\tWall Area \n",
    "*  X4\tRoof Area \n",
    "*  X5\tOverall Height \n",
    "* X6\tOrientation \n",
    "*  X7\tGlazing Area \n",
    "*  X8\tGlazing Area Distribution \n",
    "*  y1\tHeating Load \n"
   ]
  },
  {
   "cell_type": "markdown",
   "metadata": {},
   "source": [
    "#### Q1.1\n",
    "Read the data file from the csv.\n",
    "\n",
    "Print the count of NaN values for each attribute in the dataset.\n",
    "\n",
    "Print the Range (min, max) and percentiles (25th, 50th, and 75th) of each attribute in the dataset"
   ]
  },
  {
   "cell_type": "code",
   "execution_count": 149,
   "metadata": {},
   "outputs": [],
   "source": [
    "import pandas as pd\n",
    "import numpy as np\n",
    "import matplotlib.pyplot as plt\n",
    "import seaborn as sns"
   ]
  },
  {
   "cell_type": "code",
   "execution_count": 150,
   "metadata": {},
   "outputs": [
    {
     "name": "stdout",
     "output_type": "stream",
     "text": [
      "X1    0\n",
      "X2    0\n",
      "X3    0\n",
      "X4    0\n",
      "X5    0\n",
      "X6    0\n",
      "X7    0\n",
      "X8    0\n",
      "Y1    0\n",
      "dtype: int64\n"
     ]
    },
    {
     "data": {
      "text/html": [
       "<div>\n",
       "<style scoped>\n",
       "    .dataframe tbody tr th:only-of-type {\n",
       "        vertical-align: middle;\n",
       "    }\n",
       "\n",
       "    .dataframe tbody tr th {\n",
       "        vertical-align: top;\n",
       "    }\n",
       "\n",
       "    .dataframe thead th {\n",
       "        text-align: right;\n",
       "    }\n",
       "</style>\n",
       "<table border=\"1\" class=\"dataframe\">\n",
       "  <thead>\n",
       "    <tr style=\"text-align: right;\">\n",
       "      <th></th>\n",
       "      <th>X1</th>\n",
       "      <th>X2</th>\n",
       "      <th>X3</th>\n",
       "      <th>X4</th>\n",
       "      <th>X5</th>\n",
       "      <th>X6</th>\n",
       "      <th>X7</th>\n",
       "      <th>X8</th>\n",
       "      <th>Y1</th>\n",
       "    </tr>\n",
       "  </thead>\n",
       "  <tbody>\n",
       "    <tr>\n",
       "      <th>min</th>\n",
       "      <td>0.6200</td>\n",
       "      <td>514.500</td>\n",
       "      <td>245.0</td>\n",
       "      <td>110.250</td>\n",
       "      <td>3.50</td>\n",
       "      <td>2.00</td>\n",
       "      <td>0.00</td>\n",
       "      <td>0.00</td>\n",
       "      <td>6.0100</td>\n",
       "    </tr>\n",
       "    <tr>\n",
       "      <th>25%</th>\n",
       "      <td>0.6825</td>\n",
       "      <td>606.375</td>\n",
       "      <td>294.0</td>\n",
       "      <td>140.875</td>\n",
       "      <td>3.50</td>\n",
       "      <td>2.75</td>\n",
       "      <td>0.10</td>\n",
       "      <td>1.75</td>\n",
       "      <td>12.9925</td>\n",
       "    </tr>\n",
       "    <tr>\n",
       "      <th>50%</th>\n",
       "      <td>0.7500</td>\n",
       "      <td>673.750</td>\n",
       "      <td>318.5</td>\n",
       "      <td>183.750</td>\n",
       "      <td>5.25</td>\n",
       "      <td>3.50</td>\n",
       "      <td>0.25</td>\n",
       "      <td>3.00</td>\n",
       "      <td>18.9500</td>\n",
       "    </tr>\n",
       "    <tr>\n",
       "      <th>75%</th>\n",
       "      <td>0.8300</td>\n",
       "      <td>741.125</td>\n",
       "      <td>343.0</td>\n",
       "      <td>220.500</td>\n",
       "      <td>7.00</td>\n",
       "      <td>4.25</td>\n",
       "      <td>0.40</td>\n",
       "      <td>4.00</td>\n",
       "      <td>31.6675</td>\n",
       "    </tr>\n",
       "    <tr>\n",
       "      <th>max</th>\n",
       "      <td>0.9800</td>\n",
       "      <td>808.500</td>\n",
       "      <td>416.5</td>\n",
       "      <td>220.500</td>\n",
       "      <td>7.00</td>\n",
       "      <td>5.00</td>\n",
       "      <td>0.40</td>\n",
       "      <td>5.00</td>\n",
       "      <td>43.1000</td>\n",
       "    </tr>\n",
       "  </tbody>\n",
       "</table>\n",
       "</div>"
      ],
      "text/plain": [
       "         X1       X2     X3       X4    X5    X6    X7    X8       Y1\n",
       "min  0.6200  514.500  245.0  110.250  3.50  2.00  0.00  0.00   6.0100\n",
       "25%  0.6825  606.375  294.0  140.875  3.50  2.75  0.10  1.75  12.9925\n",
       "50%  0.7500  673.750  318.5  183.750  5.25  3.50  0.25  3.00  18.9500\n",
       "75%  0.8300  741.125  343.0  220.500  7.00  4.25  0.40  4.00  31.6675\n",
       "max  0.9800  808.500  416.5  220.500  7.00  5.00  0.40  5.00  43.1000"
      ]
     },
     "metadata": {},
     "output_type": "display_data"
    }
   ],
   "source": [
    "energy = pd.read_csv('Energy.csv')\n",
    "print(energy.isna().sum())\n",
    "display(energy.describe().iloc[3:,:])"
   ]
  },
  {
   "cell_type": "markdown",
   "metadata": {},
   "source": [
    " __REGRESSION__:\n",
    "\n",
    "Using the data, we want to predict \"Heating load\". The output variable is continuous. Hence, we need to use a regression algorithm.  \n",
    "\n",
    "__Q 1.2:__ \n",
    "\n",
    "Split the dataset randomly into train and test. Train a **Linear Regression** model on 80% of the data (80-20 split).\n",
    "What is the intercept and coefficient values?\n",
    "\n"
   ]
  },
  {
   "cell_type": "code",
   "execution_count": 151,
   "metadata": {},
   "outputs": [
    {
     "name": "stdout",
     "output_type": "stream",
     "text": [
      "90.88276322432907\n",
      "[-6.71955865e+01 -6.82503471e-02  3.77679158e-02 -5.30091315e-02\n",
      "  3.94167438e+00 -5.27944488e-02  2.00518306e+01  2.59807256e-01]\n"
     ]
    }
   ],
   "source": [
    "from sklearn.model_selection import train_test_split\n",
    "from sklearn import linear_model\n",
    "train, test = train_test_split(energy, test_size=0.2)\n",
    "x_train = train.iloc[:,:8].get_values()\n",
    "y_train = train.iloc[:,8]\n",
    "x_test = test.iloc[:,:8].get_values()\n",
    "y_test = test.iloc[:,8]\n",
    "LinearRegressionModel = linear_model.LinearRegression().fit(x_train, y_train)\n",
    "\n",
    "print(LinearRegressionModel.intercept_)\n",
    "print(LinearRegressionModel.coef_)\n",
    "\n"
   ]
  },
  {
   "cell_type": "markdown",
   "metadata": {
    "collapsed": true
   },
   "source": [
    "\n",
    "#### Q.1.3: \n",
    "\n",
    "Create a function which takes arrays of prediction and actual values of the output as parameters to calculate **'Root Mean Square error'** (RMSE) metric:  \n",
    "\n",
    "1. Use the function to calculate the training RMSE  \n",
    "2. Use the function to calculate the test RMSE\n",
    "\n"
   ]
  },
  {
   "cell_type": "code",
   "execution_count": 152,
   "metadata": {},
   "outputs": [
    {
     "name": "stdout",
     "output_type": "stream",
     "text": [
      "2.812939265725312\n",
      "3.321315034075561\n"
     ]
    }
   ],
   "source": [
    "def rmse(pred, actual):\n",
    "    error = pred - actual\n",
    "    return np.sqrt(np.mean(error**2))\n",
    "predict_training = LinearRegressionModel.predict(x_train)\n",
    "predict_testing = LinearRegressionModel.predict(x_test)\n",
    "rmse_train = rmse(predict_training, y_train)\n",
    "rmse_test = rmse(predict_testing, y_test)\n",
    "print(rmse_train)\n",
    "print(rmse_test)"
   ]
  },
  {
   "cell_type": "markdown",
   "metadata": {},
   "source": [
    "\n",
    "#### Q1.4: \n",
    "\n",
    "Let's see the effect of amount of data on the performance of prediction model. Use varying amounts of data (100,200,300,400,500,all) from the training data you used previously to train different regression models. Report  training error and test error in each case. Test data  is the same as above for  all  these cases.\n",
    "\n",
    "**Plot error rates vs number of training examples.** Both the training error and the test error should be plotted. Comment on the relationship you observe between the amount of data used to train the model and the test accuracy of the model.\n",
    "\n",
    "__Hint:__ Use array indexing to choose varying data amounts"
   ]
  },
  {
   "cell_type": "code",
   "execution_count": 153,
   "metadata": {},
   "outputs": [
    {
     "data": {
      "image/png": "[encoded data removed]",
      "text/plain": [
       "<Figure size 432x288 with 1 Axes>"
      ]
     },
     "metadata": {
      "needs_background": "light"
     },
     "output_type": "display_data"
    }
   ],
   "source": [
    "x100_train = train.iloc[:100,:8].get_values()\n",
    "y100_train = train.iloc[:100,8]\n",
    "data100model = linear_model.LinearRegression().fit(x100_train, y100_train)\n",
    "x100_test = test.iloc[:100,:8].get_values()\n",
    "y100_test = test.iloc[:100,8]\n",
    "predict100_training = data100model.predict(x100_train)\n",
    "predict100_testing = data100model.predict(x100_test)\n",
    "rmse100_train = rmse(predict100_training, y100_train)\n",
    "rmse100_test = rmse(predict100_testing, y100_test)\n",
    "\n",
    "x200_train = train.iloc[:200,:8].get_values()\n",
    "y200_train = train.iloc[:200,8]\n",
    "data200model = linear_model.LinearRegression().fit(x200_train, y200_train)\n",
    "x200_test = test.iloc[:200,:8].get_values()\n",
    "y200_test = test.iloc[:200,8]\n",
    "predict200_training = data200model.predict(x200_train)\n",
    "predict200_testing = data200model.predict(x200_test)\n",
    "rmse200_train = rmse(predict200_training, y200_train)\n",
    "rmse200_test = rmse(predict200_testing, y200_test)\n",
    "\n",
    "x300_train = train.iloc[:300,:8].get_values()\n",
    "y300_train = train.iloc[:300,8]\n",
    "data300model = linear_model.LinearRegression().fit(x300_train, y300_train)\n",
    "x300_test = test.iloc[:300,:8].get_values()\n",
    "y300_test = test.iloc[:300,8]\n",
    "predict300_training = data300model.predict(x300_train)\n",
    "predict300_testing = data300model.predict(x300_test)\n",
    "rmse300_train = rmse(predict300_training, y300_train)\n",
    "rmse300_test = rmse(predict300_testing, y300_test)\n",
    "\n",
    "x400_train = train.iloc[:400,:8].get_values()\n",
    "y400_train = train.iloc[:400,8]\n",
    "data400model = linear_model.LinearRegression().fit(x400_train, y400_train)\n",
    "x400_test = test.iloc[:400,:8].get_values()\n",
    "y400_test = test.iloc[:400,8]\n",
    "predict400_training = data400model.predict(x400_train)\n",
    "predict400_testing = data400model.predict(x400_test)\n",
    "rmse400_train = rmse(predict400_training, y400_train)\n",
    "rmse400_test = rmse(predict400_testing, y400_test)\n",
    "\n",
    "x500_train = train.iloc[:500,:8].get_values()\n",
    "y500_train = train.iloc[:500,8]\n",
    "data500model = linear_model.LinearRegression().fit(x500_train, y500_train)\n",
    "x500_test = test.iloc[:500,:8].get_values()\n",
    "y500_test = test.iloc[:500,8]\n",
    "predict500_training = data500model.predict(x500_train)\n",
    "predict500_testing = data500model.predict(x500_test)\n",
    "rmse500_train = rmse(predict500_training, y500_train)\n",
    "rmse500_test = rmse(predict500_testing, y500_test)\n",
    "\n",
    "error_train = [rmse100_train, rmse200_train, rmse300_train, rmse400_train, rmse500_train, rmse_train]\n",
    "error_test = [rmse100_test, rmse200_test, rmse300_test, rmse400_test, rmse500_test, rmse_test]\n",
    "\n",
    "num_samples = [100, 200, 300, 400, 500, len(x_train)]\n",
    "\n",
    "plt.plot(num_samples, error_train, label = 'Training error rates')\n",
    "plt.plot(num_samples, error_test, label = 'Testing error rates')\n",
    "plt.xlabel('Number of Training')\n",
    "plt.ylabel('Error rates')\n",
    "plt.title('Error rates vs Number of Training')\n",
    "plt.legend()\n",
    "plt.show()\n",
    "#It seems like the error rates decreases as the number of training increases. "
   ]
  },
  {
   "cell_type": "markdown",
   "metadata": {},
   "source": [
    "## Part 2 - Classification"
   ]
  },
  {
   "cell_type": "markdown",
   "metadata": {},
   "source": [
    "\n",
    "__CLASSIFICATION__:\n",
    "LABELS ARE DISCRETE VALUES.\n",
    "\n",
    "Here the model is trained to classify each instance into a set of predefined discrete classes. On inputting a feature vector into the model, the trained model is able to predict a class of that instance.\n",
    "\n",
    "\n",
    "#### Q2.1\n",
    "Bucket the values of 'y1' i.e 'Heating Load'  from the original dataset into 3 classes:\n",
    "\n",
    "0: 'Low' ( < 14),   \n",
    "1: 'Medium'  (14-28),   \n",
    "2: 'High'  (>28)\n",
    "\n",
    "**HINT:** Use pandas.cut\n",
    "\n",
    "This converts the given dataset  into a classification problem. Use this dataset with transformed 'heating load' to create a **logistic regression** classifiction model that predicts heating load type of a building. Split the data randomly into training and test set. Train the model on 80% of the data (80-20 split).\n"
   ]
  },
  {
   "cell_type": "code",
   "execution_count": 242,
   "metadata": {},
   "outputs": [
    {
     "name": "stderr",
     "output_type": "stream",
     "text": [
      "/Users/wesleychen/anaconda3/envs/data-x/lib/python3.6/site-packages/sklearn/linear_model/logistic.py:433: FutureWarning: Default solver will be changed to 'lbfgs' in 0.22. Specify a solver to silence this warning.\n",
      "  FutureWarning)\n",
      "/Users/wesleychen/anaconda3/envs/data-x/lib/python3.6/site-packages/sklearn/linear_model/logistic.py:460: FutureWarning: Default multi_class will be changed to 'auto' in 0.22. Specify the multi_class option to silence this warning.\n",
      "  \"this warning.\", FutureWarning)\n"
     ]
    }
   ],
   "source": [
    "bins = [0, 13, 28, 50]\n",
    "labels = [\"Low\",\"Medium\",\"High\"]\n",
    "energy['Y1_cat'] = pd.cut(energy['Y1'], bins=bins, labels=labels)\n",
    "X = energy.iloc[:,:-2]\n",
    "Y = energy['Y1_cat'].map({'Low': 0, 'Medium': 1,'High' :2})\n",
    "x_train, x_test, y_train, y_test = train_test_split(X, Y, test_size=0.2, random_state=100)\n",
    "\n",
    "LogisticRegressionModel = linear_model.LogisticRegression().fit(x_train, y_train)"
   ]
  },
  {
   "cell_type": "markdown",
   "metadata": {},
   "source": [
    "#### Q2.2 \n",
    "- Print the training and test accuracies\n",
    "- Print the confusion matrix\n",
    "- Print the precision and recall numbers for all the classes\n"
   ]
  },
  {
   "cell_type": "code",
   "execution_count": 243,
   "metadata": {},
   "outputs": [
    {
     "name": "stdout",
     "output_type": "stream",
     "text": [
      "Training Accuracy: 0.7850162866449512\n",
      "Testing Accuracy: 0.7467532467532467\n",
      "Confusion matrix of test data is: \n",
      "           Predicted 0  Predicted 1  Predicted 2\n",
      "Actual 0           32            7            0\n",
      "Actual 1            7           28           25\n",
      "Actual 2            0            0           55\n",
      "Average precision for the 3 classes is -  [0.82051282 0.8        0.6875    ]\n",
      "Average recall for the 3 classes is -  [0.82051282 0.46666667 1.        ]\n"
     ]
    }
   ],
   "source": [
    "from sklearn.metrics import confusion_matrix\n",
    "from sklearn.metrics import precision_score\n",
    "from sklearn.metrics import recall_score\n",
    "from sklearn.linear_model import LogisticRegression\n",
    "\n",
    "training_accuracy=LogisticRegressionModel.score(x_train,y_train)\n",
    "print('Training Accuracy:',training_accuracy)\n",
    "testing_accuracy=LogisticRegressionModel.score(x_test,y_test)\n",
    "print('Testing Accuracy:', testing_accuracy)\n",
    "\n",
    "y_true = y_test\n",
    "y_pred = LogisticRegressionModel.predict(x_test)\n",
    "ConfusionMatrix=pd.DataFrame(confusion_matrix(y_true, y_pred),columns=['Predicted 0','Predicted 1','Predicted 2'],index=['Actual 0','Actual 1','Actual 2'])\n",
    "print ('Confusion matrix of test data is: \\n',ConfusionMatrix)\n",
    "\n",
    "precision = precision_score(y_true, y_pred, average = None)\n",
    "print(\"Average precision for the 3 classes is - \", precision)\n",
    "\n",
    "recall = recall_score(y_true, y_pred, average = None)\n",
    "print(\"Average recall for the 3 classes is - \", recall)"
   ]
  },
  {
   "cell_type": "markdown",
   "metadata": {},
   "source": [
    "#### Q2.3\n",
    "##### K Fold Cross Validation\n",
    "\n",
    " In k-fold cross-validation, the shuffled training data is partitioned into k disjoint sets and the model is trained on k −1 sets and validated on the kth set. This process is repeated k times with each set chosen as the validation set once. The cross-validation accuracy is reported as the average accuracy of the k iterations\n",
    " \n",
    "__Use 7-fold cross validation on the training data. Print the average accuracy__"
   ]
  },
  {
   "cell_type": "code",
   "execution_count": 244,
   "metadata": {},
   "outputs": [
    {
     "name": "stdout",
     "output_type": "stream",
     "text": [
      "0.7757287868125307\n"
     ]
    }
   ],
   "source": [
    "from sklearn.model_selection import RepeatedKFold\n",
    "from sklearn.model_selection import LeaveOneOut\n",
    "\n",
    "kfold = RepeatedKFold(n_splits=7,n_repeats = 7)\n",
    "model = LogisticRegression(multi_class = 'auto', solver = 'liblinear')\n",
    "results = model_selection.cross_val_score(model, x_train, y_train, cv=kfold)\n",
    "print(results.mean())\n",
    "        "
   ]
  },
  {
   "cell_type": "markdown",
   "metadata": {},
   "source": [
    "__Q2.4__\n",
    "\n",
    "One of the preprocessing steps in Data science is Feature Scaling i.e getting all our data on the same scale by setting same  Min-Max of feature values. \n",
    "This makes training less sensitive to the scale of features . \n",
    "Scaling is important in algorithms that use distance functions as a part of classification. If we Scale features in the range [0,1] it is called unity based normalization.\n",
    "\n",
    "__Perform unity based normalization on the above dataset and train the model again, compare model performance in training and validation with your previous model.__  \n",
    "\n",
    "refer:http://scikit-learn.org/stable/modules/preprocessing.html#preprocessing-scaler  \n",
    "more at: https://en.wikipedia.org/wiki/Feature_scaling"
   ]
  },
  {
   "cell_type": "code",
   "execution_count": 245,
   "metadata": {},
   "outputs": [
    {
     "name": "stdout",
     "output_type": "stream",
     "text": [
      "0.8115816859659225\n"
     ]
    },
    {
     "name": "stderr",
     "output_type": "stream",
     "text": [
      "/Users/wesleychen/anaconda3/envs/data-x/lib/python3.6/site-packages/sklearn/preprocessing/data.py:323: DataConversionWarning: Data with input dtype int64, float64 were all converted to float64 by MinMaxScaler.\n",
      "  return self.partial_fit(X, y)\n"
     ]
    }
   ],
   "source": [
    "from sklearn import preprocessing\n",
    "min_max_scaler = preprocessing.MinMaxScaler()\n",
    "x_train_minmax = min_max_scaler.fit_transform(x_train)\n",
    "\n",
    "kfold = RepeatedKFold(n_splits=7,n_repeats = 7)\n",
    "model = LogisticRegression(multi_class = 'auto', solver = 'liblinear')\n",
    "results = model_selection.cross_val_score(model, x_train_minmax, y_train, cv=kfold)\n",
    "print(results.mean())"
   ]
  },
  {
   "cell_type": "code",
   "execution_count": null,
   "metadata": {},
   "outputs": [],
   "source": []
  }
 ],
 "metadata": {
  "kernel_info": {
   "name": "data-x"
  },
  "kernelspec": {
   "display_name": "Python 3",
   "language": "python",
   "name": "python3"
  },
  "language_info": {
   "codemirror_mode": {
    "name": "ipython",
    "version": 3
   },
   "file_extension": ".py",
   "mimetype": "text/x-python",
   "name": "python",
   "nbconvert_exporter": "python",
   "pygments_lexer": "ipython3",
   "version": "3.6.7"
  },
  "nteract": {
   "version": "0.7.1"
  }
 },
 "nbformat": 4,
 "nbformat_minor": 2
}
